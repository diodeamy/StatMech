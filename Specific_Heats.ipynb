{
 "cells": [
  {
   "cell_type": "markdown",
   "metadata": {},
   "source": [
    "# Specific Heat in Diamond and Lead\n",
    "\n",
    "We assume to have a material with $3N$ phonon modes, of Einstein frequency $\\omega_E$.\n",
    "\n",
    "## A. System Partition Function\n",
    "\n",
    "The partition function for such a system can be derived by:\n",
    "\n",
    "So it is given by the expression:\n",
    "\n",
    "$\\text{Q} = \\prod\\limits^{3N}_{i = 1} \\frac{1}{1 - \\exp(-\\beta\\hbar\\omega_E)}$\n",
    "\n",
    "## B. Average Phonon Occupation Levels\n",
    "\n",
    "\n",
    "\n",
    "## C. System Total Energy\n",
    "\n",
    "\n",
    "## D. System Heat Capacity ($C_V$)\n",
    "\n",
    "\n"
   ]
  },
  {
   "cell_type": "code",
   "execution_count": null,
   "metadata": {},
   "outputs": [],
   "source": [
    "# Imports\n",
    "\n",
    "import numpy as np\n",
    "import scipy as sp\n",
    "import requests\n",
    "import pandas as pd\n",
    "from io import StringIO\n",
    "import pint #I shall certainly be importing a pint after this assignment is done :)\n",
    "\n",
    "# !pip install pint\n"
   ]
  },
  {
   "cell_type": "code",
   "execution_count": 13,
   "metadata": {},
   "outputs": [],
   "source": [
    "# Data Gathering for smooth sailing\n",
    "\n",
    "diamond_url = 'https://raw.githubusercontent.com/diodeamy/StatMech/refs/heads/main/data/diamond.dat'\n",
    "lead_url = 'https://raw.githubusercontent.com/diodeamy/StatMech/refs/heads/main/data/lead.dat'\n",
    "\n",
    "diamond_resp = requests.get(diamond_url)\n",
    "diamond_str = diamond_resp.text\n",
    "diamond_io = StringIO(diamond_str)\n",
    "diamond_df = pd.read_csv(diamond_io, comment='#', header=None, delim_whitespace=True)\n",
    "\n",
    "lead_resp = requests.get(lead_url)\n",
    "lead_str = lead_resp.text\n",
    "lead_io = StringIO(lead_str)\n",
    "lead_df = pd.read_csv(lead_io, header=None, delim_whitespace=True)\n"
   ]
  },
  {
   "cell_type": "code",
   "execution_count": 16,
   "metadata": {},
   "outputs": [],
   "source": [
    "# Data Processing & Misc. for even smoother sailing?\n",
    "\n",
    "ureg = pint.UnitRegistry()"
   ]
  },
  {
   "cell_type": "markdown",
   "metadata": {},
   "source": [
    "## E. Diamond Einstein Temperature ($T_E$) (by fit)\n",
    "\n",
    "In this section we look at the datafile for measurements of the specific heat of diamond in order to obtain the Einstein temperature of the system by fitting. "
   ]
  },
  {
   "cell_type": "markdown",
   "metadata": {
    "vscode": {
     "languageId": "plaintext"
    }
   },
   "source": [
    "## F. Diamond Debye Temperature ($T_D$) (by fit)\n",
    "\n",
    "We wish to find the Debye temperature of diamond, by fitting the Debye model to the measurements of specific heat. We use a formulation such that the solution is more stable for small values of temperature. "
   ]
  },
  {
   "cell_type": "markdown",
   "metadata": {},
   "source": [
    "## G. Debye Model vs. Einstein Model Comparison (for diamond)"
   ]
  },
  {
   "cell_type": "markdown",
   "metadata": {},
   "source": [
    "## H. Debye Model vs. Einstein Model Comparison (for lead)"
   ]
  },
  {
   "cell_type": "markdown",
   "metadata": {},
   "source": [
    "### H.a. Einstein Temperature ($T_E$) (by fit) - lead"
   ]
  },
  {
   "cell_type": "markdown",
   "metadata": {},
   "source": [
    "### H.b. Debye Temperature ($T_D$) (by fit) - lead"
   ]
  },
  {
   "cell_type": "markdown",
   "metadata": {},
   "source": [
    "### H.c. Model Comparison - lead"
   ]
  },
  {
   "cell_type": "markdown",
   "metadata": {},
   "source": [
    "## I. Diamond vs. Lead Comparison Discussion"
   ]
  },
  {
   "cell_type": "markdown",
   "metadata": {},
   "source": [
    "## J. Fermi Temperature ($T_F$) (by fit) - lead"
   ]
  },
  {
   "cell_type": "markdown",
   "metadata": {},
   "source": [
    "## K. Room-Temperature Entropy by Debye Function - diamond & lead"
   ]
  },
  {
   "cell_type": "markdown",
   "metadata": {},
   "source": []
  }
 ],
 "metadata": {
  "kernelspec": {
   "display_name": "base",
   "language": "python",
   "name": "python3"
  },
  "language_info": {
   "codemirror_mode": {
    "name": "ipython",
    "version": 3
   },
   "file_extension": ".py",
   "mimetype": "text/x-python",
   "name": "python",
   "nbconvert_exporter": "python",
   "pygments_lexer": "ipython3",
   "version": "3.9.7"
  }
 },
 "nbformat": 4,
 "nbformat_minor": 2
}
