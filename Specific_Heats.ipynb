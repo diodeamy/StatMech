{
 "cells": [
  {
   "cell_type": "markdown",
   "metadata": {},
   "source": [
    "# Specific Heat in Diamond and Lead\n",
    "\n",
    "We assume to have a material with $3N$ phonon modes, of Einstein frequency $\\omega_E$.\n"
   ]
  },
  {
   "cell_type": "markdown",
   "metadata": {},
   "source": [
    "## A. System Partition Function\n",
    "\n",
    "For some solid of N atoms there will be 3N normal modes. Each normal mode, which can be represented classically as a wave of distortion in the lattice of the material, gives rise to a quantum of sound- a phonon of characteristic frequency $\\omega_i$ and energy $\\hbar \\omega_i$. The quantum state of a solid (at low enough temperatures) can be modelled as a volume containing a gas of non-interacting phonons. The partition function for a mode:\n",
    "\n",
    "$\\displaystyle Q_N (V, T) = \\sum_n e^{-\\beta E_n}$.\n",
    "\n",
    "\n",
    "For some state which has $n_i$ phonons of type i (i.e. of characteristic frequency $\\omega_i$), the total energy of the state is:\n",
    "\n",
    "$\\displaystyle E\\{n_i\\} = \\sum_{i=1}^{3N}n_i \\hbar \\omega_i$,\n",
    "\n",
    "and so:\n",
    "\n",
    "$\\displaystyle Q_N (V, T) = \\sum_{i=1}^{3N} e^{-\\beta E_i}$.\n",
    "\n",
    "\n",
    "Since we assume that $N \\to \\infty$, and using the **important assumption** that for an Einstein model all characteristic frequencies are taken to be equal, we can evaluate the expression with an infinite-term geometric progression to obtain:\n",
    "\n",
    "$Q_N (V, T) = \\frac{1}{1 - \\exp({-\\beta \\hbar\\omega_E})}$.\n",
    "\n",
    "Since we assumed that the phonons are independent, the full partition function can be written as a product of the partition functions of nodes:\n",
    "\n",
    "$\\displaystyle Q = \\prod^{3N}_{i = 1} Q_N$.\n",
    "\n",
    "Therefore, the partition function for such a system is:\n",
    "\n",
    "$\\text{Q} = \\prod\\limits^{3N}_{i = 1} \\frac{1}{1 - \\exp(-\\beta\\hbar\\omega_E)}$.\n",
    "\n"
   ]
  },
  {
   "cell_type": "markdown",
   "metadata": {},
   "source": [
    "## B. Average Phonon Occupation Levels\n",
    "\n",
    "The average occupation numbers are given by (Huang: 8.65 & 12.32):\n",
    "\n",
    "$<n_i> := - \\frac{1}{\\beta} \\frac{\\partial}{\\partial E_i} \\log Q$.\n",
    "\n",
    "Taking the log of the partition function:\n",
    "\n",
    "$\\log Q = $\n",
    "\n",
    "\n"
   ]
  },
  {
   "cell_type": "markdown",
   "metadata": {},
   "source": [
    "\n",
    "## C. System Total Energy\n"
   ]
  },
  {
   "cell_type": "markdown",
   "metadata": {},
   "source": [
    "## D. System Heat Capacity ($C_V$)"
   ]
  },
  {
   "cell_type": "code",
   "execution_count": 3,
   "metadata": {},
   "outputs": [],
   "source": [
    "# Imports\n",
    "\n",
    "import numpy as np\n",
    "import scipy as sp\n",
    "import requests\n",
    "import pandas as pd\n",
    "from io import StringIO\n",
    "import pint #I shall certainly be importing a pint after this assignment is done :)\n",
    "\n",
    "# !pip install pint\n"
   ]
  },
  {
   "cell_type": "code",
   "execution_count": 13,
   "metadata": {},
   "outputs": [],
   "source": [
    "# Data Gathering for smooth sailing\n",
    "\n",
    "diamond_url = 'https://raw.githubusercontent.com/diodeamy/StatMech/refs/heads/main/data/diamond.dat'\n",
    "lead_url = 'https://raw.githubusercontent.com/diodeamy/StatMech/refs/heads/main/data/lead.dat'\n",
    "\n",
    "diamond_resp = requests.get(diamond_url)\n",
    "diamond_str = diamond_resp.text\n",
    "diamond_io = StringIO(diamond_str)\n",
    "diamond_df = pd.read_csv(diamond_io, comment='#', header=None, delim_whitespace=True)\n",
    "\n",
    "lead_resp = requests.get(lead_url)\n",
    "lead_str = lead_resp.text\n",
    "lead_io = StringIO(lead_str)\n",
    "lead_df = pd.read_csv(lead_io, header=None, delim_whitespace=True)\n"
   ]
  },
  {
   "cell_type": "code",
   "execution_count": 16,
   "metadata": {},
   "outputs": [],
   "source": [
    "# Data Processing & Misc. for even smoother sailing?\n",
    "\n",
    "ureg = pint.UnitRegistry()"
   ]
  },
  {
   "cell_type": "markdown",
   "metadata": {},
   "source": [
    "## E. Diamond Einstein Temperature ($T_E$) (by fit)\n",
    "\n",
    "In this section we look at the datafile for measurements of the specific heat of diamond in order to obtain the Einstein temperature of the system by fitting. "
   ]
  },
  {
   "cell_type": "markdown",
   "metadata": {
    "vscode": {
     "languageId": "plaintext"
    }
   },
   "source": [
    "## F. Diamond Debye Temperature ($T_D$) (by fit)\n",
    "\n",
    "We wish to find the Debye temperature of diamond, by fitting the Debye model to the measurements of specific heat. We use a formulation such that the solution is more stable for small values of temperature. "
   ]
  },
  {
   "cell_type": "markdown",
   "metadata": {},
   "source": [
    "## G. Debye Model vs. Einstein Model Comparison (for diamond)"
   ]
  },
  {
   "cell_type": "markdown",
   "metadata": {},
   "source": [
    "## H. Debye Model vs. Einstein Model Comparison (for lead)"
   ]
  },
  {
   "cell_type": "markdown",
   "metadata": {},
   "source": [
    "### H.a. Einstein Temperature ($T_E$) (by fit) - lead"
   ]
  },
  {
   "cell_type": "markdown",
   "metadata": {},
   "source": [
    "### H.b. Debye Temperature ($T_D$) (by fit) - lead"
   ]
  },
  {
   "cell_type": "markdown",
   "metadata": {},
   "source": [
    "### H.c. Model Comparison - lead"
   ]
  },
  {
   "cell_type": "markdown",
   "metadata": {},
   "source": [
    "## I. Diamond vs. Lead Comparison Discussion"
   ]
  },
  {
   "cell_type": "markdown",
   "metadata": {},
   "source": [
    "## J. Fermi Temperature ($T_F$) (by fit) - lead"
   ]
  },
  {
   "cell_type": "markdown",
   "metadata": {},
   "source": [
    "## K. Room-Temperature Entropy by Debye Function - diamond & lead"
   ]
  },
  {
   "cell_type": "markdown",
   "metadata": {},
   "source": []
  }
 ],
 "metadata": {
  "kernelspec": {
   "display_name": "base",
   "language": "python",
   "name": "python3"
  },
  "language_info": {
   "codemirror_mode": {
    "name": "ipython",
    "version": 3
   },
   "file_extension": ".py",
   "mimetype": "text/x-python",
   "name": "python",
   "nbconvert_exporter": "python",
   "pygments_lexer": "ipython3",
   "version": "3.9.7"
  }
 },
 "nbformat": 4,
 "nbformat_minor": 2
}
