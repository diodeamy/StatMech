{
 "cells": [
  {
   "cell_type": "markdown",
   "metadata": {},
   "source": [
    "# Specific Heat in Diamond and Lead\n",
    "\n",
    "We assume to have a material with $3N$ phonon modes, of Einstein frequency $\\omega_E$.\n",
    "\n",
    "## A. System Partition Function\n",
    "\n",
    "The partition function for such a system can be derived by:\n",
    "\n",
    "So it is given by the expression:\n",
    "\n",
    "$\\text{Q} = \\prod\\limits^{3N}_{i = 1} \\frac{1}{1 - \\exp(-\\beta\\hbar\\omega_E)}$\n",
    "\n",
    "## B. Average Phonon Occupation Levels\n",
    "\n",
    "\n",
    "\n",
    "## C. System Total Energy\n",
    "\n",
    "\n",
    "## D. System Heat Capacity ($C_V$)\n",
    "\n",
    "\n"
   ]
  },
  {
   "cell_type": "markdown",
   "metadata": {},
   "source": [
    "## E. Diamond Einstein Temperature ($T_E$) (by fit)\n",
    "\n",
    "In this section we look at the datafile for measurements of the specific heat of diamond in order to obtain the Einstein temperature of the system by fitting. "
   ]
  },
  {
   "cell_type": "markdown",
   "metadata": {
    "vscode": {
     "languageId": "plaintext"
    }
   },
   "source": [
    "## F. Diamond Debye Temperature ($T_D$) (by fit)\n",
    "\n",
    "We wish to find the Debye temperature of diamond, by fitting the Debye model to the measurements of specific heat. We use a formulation such that the solution is more stable for small values of temperature. "
   ]
  },
  {
   "cell_type": "markdown",
   "metadata": {},
   "source": [
    "## G. Debye Model vs. Einstein Model Comparison (for diamond)"
   ]
  },
  {
   "cell_type": "markdown",
   "metadata": {},
   "source": [
    "## H. Debye Model vs. Einstein Model Comparison (for lead)"
   ]
  },
  {
   "cell_type": "markdown",
   "metadata": {},
   "source": [
    "### H.a. Einstein Temperature ($T_E$) (by fit) - lead"
   ]
  },
  {
   "cell_type": "markdown",
   "metadata": {},
   "source": [
    "### H.b. Debye Temperature ($T_D$) (by fit) - lead"
   ]
  },
  {
   "cell_type": "markdown",
   "metadata": {},
   "source": [
    "### H.c. Model Comparison - lead"
   ]
  },
  {
   "cell_type": "markdown",
   "metadata": {},
   "source": [
    "## I. Diamond vs. Lead Comparison Discussion"
   ]
  },
  {
   "cell_type": "markdown",
   "metadata": {},
   "source": [
    "## J. Fermi Temperature ($T_F$) (by fit) - lead"
   ]
  },
  {
   "cell_type": "markdown",
   "metadata": {},
   "source": [
    "## K. Room-Temperature Entropy by Debye Function - diamond & lead"
   ]
  },
  {
   "cell_type": "markdown",
   "metadata": {},
   "source": []
  }
 ],
 "metadata": {
  "language_info": {
   "name": "python"
  }
 },
 "nbformat": 4,
 "nbformat_minor": 2
}
