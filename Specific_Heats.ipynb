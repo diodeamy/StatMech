{
 "cells": [
  {
   "cell_type": "markdown",
   "metadata": {},
   "source": [
    "# Specific Heat in Diamond and Lead\n",
    "\n",
    "We assume to have a material with $3N$ phonon modes, of Einstein frequency $\\omega_E$.\n"
   ]
  },
  {
   "cell_type": "markdown",
   "metadata": {},
   "source": [
    "## A. System Partition Function\n",
    "\n",
    "For some solid of N atoms there will be 3N normal modes. Each normal mode, which can be represented classically as a wave of distortion in the lattice of the material, gives rise to a quantum of sound- a phonon of characteristic frequency $\\omega_i$ and energy $\\hbar \\omega_i$. The quantum state of a solid (at low enough temperatures) can be modelled as a volume containing a gas of non-interacting phonons. The partition function for a mode:\n",
    "\n",
    "$\\displaystyle Q_N (V, T) = \\sum_n e^{-\\beta E_n}$.\n",
    "\n",
    "\n",
    "For some state which has $n_i$ phonons of type i (i.e. of characteristic frequency $\\omega_i$), the total energy of the state is:\n",
    "\n",
    "$\\displaystyle E\\{n_i\\} = \\sum_{i=1}^{3N}n_i \\hbar \\omega_i$,\n",
    "\n",
    "and so:\n",
    "\n",
    "$\\displaystyle Q_N (V, T) = \\sum_{i=1}^{3N} e^{-\\beta E_i}$.\n",
    "\n",
    "\n",
    "Since we assume that $N \\to \\infty$, and using the **important assumption** that for an Einstein model all characteristic frequencies are taken to be equal, we can evaluate the expression with an infinite-term geometric progression to obtain:\n",
    "\n",
    "$Q_N (V, T) = \\frac{1}{1 - \\exp({-\\beta \\hbar\\omega_E})}$.\n",
    "\n",
    "Since we assumed that the phonons are independent, the full partition function can be written as a product of the partition functions of nodes:\n",
    "\n",
    "$\\displaystyle Q = \\prod^{3N}_{i = 1} Q_N = Q_N^{3N}$.\n",
    "\n",
    "Therefore, the partition function for such a system is:\n",
    "\n",
    "$\\text{Q} = \\prod\\limits^{3N}_{i = 1} \\frac{1}{1 - \\exp(-\\beta\\hbar\\omega_E)}$.\n",
    "\n"
   ]
  },
  {
   "cell_type": "markdown",
   "metadata": {},
   "source": [
    "## B. Average Phonon Occupation Levels\n",
    "\n",
    "The probability of finding n phonons is:\n",
    "\n",
    "$\\displaystyle P_n = \\frac{e^{-\\beta E_n}}{\\sum^{\\infty}_{n=0}e^{-\\beta E_n}}$,\n",
    "\n",
    "where the denominator is $Q_N^{-1}$. The average occupation state is then simply the sum of this the probability of finding n phonons times the number of phonons:\n",
    "\n",
    "$\\displaystyle <n> = \\sum^{\\infty}_{n=0} P_n \\cdot n = 1 - e^{-\\beta \\hbar \\omega_E} \\cdot \\sum^{\\infty}_{n=0}ne^{-\\beta \\hbar\\omega_E n} = 1 - e^{-\\beta \\hbar \\omega_E} \\cdot \\frac{e^{-\\beta \\hbar \\omega_E}}{(1 - e^{-\\beta \\hbar \\omega_E})^2} = \\frac{1}{e^{\\beta\\hbar\\omega_E}-1}$"
   ]
  },
  {
   "cell_type": "markdown",
   "metadata": {},
   "source": [
    "## C. System Total Energy\n",
    "\n",
    "Average energy can be computed by summing the average phonon occupation times the respective energy per mode:\n",
    "\n",
    "$\\displaystyle U = \\sum^{3N}_{i=1} \\hbar \\omega_i <n_i> \\ = \\sum^{3N}_{i=1} \\frac{\\hbar \\omega_E}{e^{\\beta \\hbar \\omega_E} - 1}$\n",
    "\n",
    "OR:\n",
    "\n",
    "$\\ln Q = - 3N \\cdot \\ln(1 - e^{-\\beta \\hbar \\omega_E})$\n",
    "\n",
    "$U = - \\frac{\\partial \\ln Q}{\\partial \\beta} = 3N \\frac{1}{1 - e^{-\\beta \\hbar \\omega_E}} \\cdot \\hbar \\omega_E e^{-\\beta \\hbar \\omega_E} = 3N \\frac{\\hbar \\omega_E}{e^{\\beta \\hbar \\omega_E} - 1}$\n",
    "\n",
    "which both give the same result!"
   ]
  },
  {
   "cell_type": "markdown",
   "metadata": {},
   "source": [
    "## D. System Heat Capacity ($C_V$)\n",
    "\n",
    "Heat capacity is the change in energy with respect to temperature. For a solid:\n",
    "\n",
    "$C_V \\approx C_p = C = \\frac{\\partial U}{\\partial T}$\n",
    "\n",
    "Since $\\beta = \\frac{1}{k_B T}$:\n",
    "\n",
    "$C_V = 3N\\hbar \\omega_E \\left( -\\frac{\\hbar \\omega_E}{k_B} (-1) \\frac{1}{T^2} \\frac{e^{\\beta \\hbar \\omega_E}}{(e^{\\beta \\hbar \\omega_E -1})^{2}} \\right) = 3N \\hbar^2 \\omega_E^2 \\beta^2 k_B \\left( \\frac{e^{\\beta \\hbar \\omega_E}}{(e^{\\beta \\hbar \\omega_E} - 1)^2}\\right)$\n",
    "\n"
   ]
  },
  {
   "cell_type": "code",
   "execution_count": 4,
   "metadata": {},
   "outputs": [],
   "source": [
    "# Imports\n",
    "\n",
    "import numpy as np\n",
    "import scipy as sp\n",
    "import requests\n",
    "import pandas as pd\n",
    "from io import StringIO\n",
    "import pint #I shall certainly be importing a pint after this assignment is done :)\n",
    "\n",
    "# !pip install pint\n"
   ]
  },
  {
   "cell_type": "code",
   "execution_count": 5,
   "metadata": {},
   "outputs": [],
   "source": [
    "# Data Gathering for smooth sailing\n",
    "\n",
    "diamond_url = 'https://raw.githubusercontent.com/diodeamy/StatMech/refs/heads/main/data/diamond.dat'\n",
    "lead_url = 'https://raw.githubusercontent.com/diodeamy/StatMech/refs/heads/main/data/lead.dat'\n",
    "\n",
    "diamond_resp = requests.get(diamond_url)\n",
    "diamond_str = diamond_resp.text\n",
    "diamond_io = StringIO(diamond_str)\n",
    "diamond_df = pd.read_csv(diamond_io, comment='#', header=None, delim_whitespace=True)\n",
    "\n",
    "lead_resp = requests.get(lead_url)\n",
    "lead_str = lead_resp.text\n",
    "lead_io = StringIO(lead_str)\n",
    "lead_df = pd.read_csv(lead_io, header=None, delim_whitespace=True)\n"
   ]
  },
  {
   "cell_type": "code",
   "execution_count": 25,
   "metadata": {},
   "outputs": [],
   "source": [
    "diamond_df.columns = ['Temperature', 'Specific_Heat']\n",
    "lead_df.columns = ['Temperature', 'Specific_Heat']\n",
    "\n",
    "ts_diamond = diamond_df['Temperature']\n",
    "shs_diamond = diamond_df['Specific_Heat']\n",
    "\n",
    "ts_lead = lead_df['Temperature']\n",
    "shs_lead = lead_df['Specific_Heat']"
   ]
  },
  {
   "cell_type": "code",
   "execution_count": null,
   "metadata": {},
   "outputs": [],
   "source": [
    "# k_B = 1.380649e-23     # Boltzmann constant (J/K)\n",
    "# hbar = 1.0545718e-34   # Reduced Planck's constant (J·s)\n",
    "# N = 1                 # Number of atoms (can be absorbed into the amplitude if unknown)\n",
    "\n",
    "# # Einstein model function for fitting\n",
    "# def einstein_model(T, theta_E):\n",
    "#     beta = 1 / (k_B * T)\n",
    "#     x = theta_E / T  # since theta_E = hbar*omega_E / k_B\n",
    "#     exp_term = np.exp(-x)\n",
    "#     Cv = 3 * N * k_B * (x**2) * (exp_term / (1 - exp_term)**2)\n",
    "#     return Cv\n",
    "\n",
    "# # Fit the function\n",
    "# popt, pcov = curve_fit(einstein_model, T_data, C_data, p0=[100])  # Initial guess for theta_E in K\n",
    "# theta_E_fit = popt[0]\n",
    "\n",
    "# print(f\"Fitted Einstein Temperature (Theta_E): {theta_E_fit:.2f} K\")\n",
    "\n",
    "# # Plotting\n",
    "# T_fit = np.linspace(min(T_data), max(T_data), 300)\n",
    "# C_fit = einstein_model(T_fit, theta_E_fit)\n",
    "\n",
    "# plt.plot(T_data, C_data, 'o', label='Experimental Data')\n",
    "# plt.plot(T_fit, C_fit, '-', label=f'Einstein Fit\\n$\\\\Theta_E$ = {theta_E_fit:.2f} K')\n",
    "# plt.xlabel('Temperature (K)')\n",
    "# plt.ylabel('Specific Heat (J/K)')\n",
    "# plt.legend()\n",
    "# plt.grid(True)\n",
    "# plt.show()"
   ]
  },
  {
   "cell_type": "code",
   "execution_count": null,
   "metadata": {},
   "outputs": [],
   "source": [
    "def einstein_CV(T, ):"
   ]
  },
  {
   "cell_type": "code",
   "execution_count": 19,
   "metadata": {},
   "outputs": [],
   "source": [
    "# Data Processing & Misc. for even smoother sailing?\n",
    "## specific hear diamond data was given in cal/mol/K\n",
    "ureg = pint.UnitRegistry()"
   ]
  },
  {
   "cell_type": "markdown",
   "metadata": {},
   "source": [
    "## E. Diamond Einstein Temperature ($T_E$) (by fit)\n",
    "\n",
    "In this section we look at the datafile for measurements of the specific heat of diamond in order to obtain the Einstein temperature of the system by fitting. "
   ]
  },
  {
   "cell_type": "markdown",
   "metadata": {
    "vscode": {
     "languageId": "plaintext"
    }
   },
   "source": [
    "## F. Diamond Debye Temperature ($T_D$) (by fit)\n",
    "\n",
    "We wish to find the Debye temperature of diamond, by fitting the Debye model to the measurements of specific heat. We use a formulation such that the solution is more stable for small values of temperature. "
   ]
  },
  {
   "cell_type": "markdown",
   "metadata": {},
   "source": [
    "## G. Debye Model vs. Einstein Model Comparison (for diamond)"
   ]
  },
  {
   "cell_type": "markdown",
   "metadata": {},
   "source": [
    "## H. Debye Model vs. Einstein Model Comparison (for lead)"
   ]
  },
  {
   "cell_type": "markdown",
   "metadata": {},
   "source": [
    "### H.a. Einstein Temperature ($T_E$) (by fit) - lead"
   ]
  },
  {
   "cell_type": "markdown",
   "metadata": {},
   "source": [
    "### H.b. Debye Temperature ($T_D$) (by fit) - lead"
   ]
  },
  {
   "cell_type": "markdown",
   "metadata": {},
   "source": [
    "### H.c. Model Comparison - lead"
   ]
  },
  {
   "cell_type": "markdown",
   "metadata": {},
   "source": [
    "## I. Diamond vs. Lead Comparison Discussion"
   ]
  },
  {
   "cell_type": "markdown",
   "metadata": {},
   "source": [
    "## J. Fermi Temperature ($T_F$) (by fit) - lead"
   ]
  },
  {
   "cell_type": "markdown",
   "metadata": {},
   "source": [
    "## K. Room-Temperature Entropy by Debye Function - diamond & lead"
   ]
  },
  {
   "cell_type": "markdown",
   "metadata": {},
   "source": []
  }
 ],
 "metadata": {
  "kernelspec": {
   "display_name": "base",
   "language": "python",
   "name": "python3"
  },
  "language_info": {
   "codemirror_mode": {
    "name": "ipython",
    "version": 3
   },
   "file_extension": ".py",
   "mimetype": "text/x-python",
   "name": "python",
   "nbconvert_exporter": "python",
   "pygments_lexer": "ipython3",
   "version": "3.9.7"
  }
 },
 "nbformat": 4,
 "nbformat_minor": 2
}
